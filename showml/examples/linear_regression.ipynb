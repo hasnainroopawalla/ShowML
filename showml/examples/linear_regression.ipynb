{
 "cells": [
  {
   "cell_type": "code",
   "execution_count": 1,
   "metadata": {},
   "outputs": [],
   "source": [
    "from showml.losses import MeanSquaredError\n",
    "from showml.optimizers import SGD\n",
    "from showml.linear_model.regression import LinearRegression\n",
    "from showml.utils.dataset import Dataset\n",
    "from showml.losses.metrics import mean_squared_error, r2_score\n",
    "from showml.utils.plots import plot_regression_line\n",
    "from showml.utils.preprocessing import normalize\n",
    "from showml.utils.data_loader import load_auto"
   ]
  },
  {
   "cell_type": "code",
   "execution_count": null,
   "metadata": {},
   "outputs": [],
   "source": [
    "X_train, y_train = load_auto()"
   ]
  },
  {
   "cell_type": "code",
   "execution_count": null,
   "metadata": {},
   "outputs": [],
   "source": [
    "X_train = normalize(X_train)"
   ]
  },
  {
   "cell_type": "code",
   "execution_count": null,
   "metadata": {},
   "outputs": [],
   "source": [
    "dataset = Dataset(X_train, y_train)"
   ]
  },
  {
   "cell_type": "code",
   "execution_count": null,
   "metadata": {},
   "outputs": [],
   "source": [
    "optimizer = SGD(learning_rate=0.001, momentum=0.8)\n",
    "loss = MeanSquaredError()\n",
    "\n",
    "model = LinearRegression()\n",
    "\n",
    "model.compile(\n",
    "    optimizer=optimizer, loss=loss, metrics=[mean_squared_error, r2_score]\n",
    ")"
   ]
  },
  {
   "cell_type": "code",
   "execution_count": null,
   "metadata": {},
   "outputs": [],
   "source": [
    "\n",
    "model.fit(dataset, epochs=10000)"
   ]
  },
  {
   "cell_type": "code",
   "execution_count": null,
   "metadata": {},
   "outputs": [],
   "source": [
    "model.plot_metrics()\n",
    "plot_regression_line(X_train, y_train, model.predict(X_train))"
   ]
  }
 ],
 "metadata": {
  "interpreter": {
   "hash": "b0fa6594d8f4cbf19f97940f81e996739fb7646882a419484c72d19e05852a7e"
  },
  "kernelspec": {
   "display_name": "Python 3.9.9 64-bit",
   "language": "python",
   "name": "python3"
  },
  "language_info": {
   "codemirror_mode": {
    "name": "ipython",
    "version": 3
   },
   "file_extension": ".py",
   "mimetype": "text/x-python",
   "name": "python",
   "nbconvert_exporter": "python",
   "pygments_lexer": "ipython3",
   "version": "3.9.9"
  },
  "orig_nbformat": 4
 },
 "nbformat": 4,
 "nbformat_minor": 2
}
